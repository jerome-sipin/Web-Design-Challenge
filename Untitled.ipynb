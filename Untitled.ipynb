{
 "cells": [
  {
   "cell_type": "code",
   "execution_count": 1,
   "id": "83c41715",
   "metadata": {},
   "outputs": [],
   "source": [
    "# Convert cities.csv to HTML table using pandas\n",
    "\n",
    "# Import pandas\n",
    "import pandas as pd"
   ]
  },
  {
   "cell_type": "code",
   "execution_count": 5,
   "id": "4a4a720a",
   "metadata": {},
   "outputs": [],
   "source": [
    "# Read csv\n",
    "cities = pd.read_csv(\"Resources/cities.csv\")\n",
    "\n",
    "# Convert csv to html\n",
    "cities.to_html(\"cities.html\")"
   ]
  },
  {
   "cell_type": "code",
   "execution_count": null,
   "id": "408948bb",
   "metadata": {},
   "outputs": [],
   "source": []
  }
 ],
 "metadata": {
  "kernelspec": {
   "display_name": "Python 3",
   "language": "python",
   "name": "python3"
  },
  "language_info": {
   "codemirror_mode": {
    "name": "ipython",
    "version": 3
   },
   "file_extension": ".py",
   "mimetype": "text/x-python",
   "name": "python",
   "nbconvert_exporter": "python",
   "pygments_lexer": "ipython3",
   "version": "3.8.8"
  }
 },
 "nbformat": 4,
 "nbformat_minor": 5
}
